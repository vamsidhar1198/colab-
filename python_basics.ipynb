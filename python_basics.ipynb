{
  "nbformat": 4,
  "nbformat_minor": 0,
  "metadata": {
    "colab": {
      "provenance": [],
      "authorship_tag": "ABX9TyNO+b1LA2AXcTk0Y5SnW26G",
      "include_colab_link": true
    },
    "kernelspec": {
      "name": "python3",
      "display_name": "Python 3"
    },
    "language_info": {
      "name": "python"
    }
  },
  "cells": [
    {
      "cell_type": "markdown",
      "metadata": {
        "id": "view-in-github",
        "colab_type": "text"
      },
      "source": [
        "<a href=\"https://colab.research.google.com/github/vamsidhar1198/python/blob/main/python_basics.ipynb\" target=\"_parent\"><img src=\"https://colab.research.google.com/assets/colab-badge.svg\" alt=\"Open In Colab\"/></a>"
      ]
    },
    {
      "cell_type": "markdown",
      "source": [
        "#**Key Words**"
      ],
      "metadata": {
        "id": "x46aH6W7iZPq"
      }
    },
    {
      "cell_type": "markdown",
      "source": [
        "\n",
        "\n",
        "**Note:**\n",
        "\n",
        "* Keywords are reserved words with specific meanings in Python. You cannot use them as variable names or for other purposes in your code.\n",
        "* The exact set of keywords can vary slightly between different Python versions. Here, we'll focus on the most common keywords used in Python 3.\n",
        "\n",
        "**Keywords:**\n",
        "\n",
        "* **`and`:** Used in logical expressions to check if two or more conditions are both True.\n",
        "* **`as`:** Used for renaming variables or modules during import.\n",
        "* **`assert`:** Used for debugging purposes to check if a condition is True, raising an `AssertionError` if not.\n",
        "* **`async`:** Used to define asynchronous functions (introduced in Python 3.5).\n",
        "* **`await`:** Used to wait for the result of an asynchronous operation (introduced in Python 3.5).\n",
        "* **`break`:** Used to exit a loop prematurely.\n",
        "* **`class`:** Used to define a class, which is a blueprint for creating objects.\n",
        "* **`continue`:** Used to skip to the next iteration of a loop.\n",
        "* **`def`:** Used to define a function, which is a block of code that can be reused.\n",
        "* **`del`:** Used to delete a variable or object.\n",
        "* **`elif`:** Used as an alternative to `if` in conditional statements (short for \"else if\").\n",
        "* **`else`:** Used in conditional statements to specify code that executes if none of the preceding conditions are True.\n",
        "* **`except`:** Used in exception handling to define a block of code that executes if a specific error occurs.\n",
        "* **`finally`:** Used in exception handling to ensure a block of code always executes, regardless of whether an exception occurs.\n",
        "* **`for`:** Used to iterate over a sequence of items.\n",
        "* **`from`:** Used in import statements to import specific attributes from a module.\n",
        "* **`global`:** Used to declare a variable that is accessible globally within the current scope.\n",
        "* **`if`:** Used in conditional statements to execute code based on a certain condition.\n",
        "* **`import`:** Used to import modules or packages that provide functionality for your program.\n",
        "* **`in`:** Used to check if a value is present in a sequence (like a list or string).\n",
        "* **`is`:** Used to check if two variables refer to the same object in memory.\n",
        "* **`lambda`:** Used to define anonymous functions (small functions without a name).\n",
        "* **`nonlocal`:** Used to declare a variable that is referenced in an enclosing function (introduced in Python 3.x).\n",
        "* **`not`:** Used in logical expressions to negate a condition.\n",
        "* **`or`:** Used in logical expressions to check if at least one of two conditions is True.\n",
        "* **`pass`:** Used as a placeholder in code blocks that currently don't do anything.\n",
        "* **`raise`:** Used in exception handling to manually raise an exception.\n",
        "* **`return`:** Used to exit a function and optionally return a value.\n",
        "* **`try`:** Used in exception handling to define a block of code that might raise an exception.\n",
        "* **`while`:** Used to create a loop that executes code repeatedly as long as a condition is True.\n",
        "* **`with`:** Used for context managers, which handle resource acquisition and release (e.g., opening and closing files).\n",
        "* **`yield`:** Used in generators to produce a sequence of values on demand (introduced in Python 2.2)."
      ],
      "metadata": {
        "id": "4FxjEWASieSs"
      }
    },
    {
      "cell_type": "markdown",
      "source": [
        "# **What are Data Types?**"
      ],
      "metadata": {
        "id": "IFym0h20fhyq"
      }
    },
    {
      "cell_type": "markdown",
      "source": [
        "In Python, data types define the kind of information a variable can hold. They determine the operations that can be performed on that data and how it's stored in memory. Choosing the right data type is crucial for efficient and error-free programming.\n"
      ],
      "metadata": {
        "id": "_7siIqa-f6b8"
      }
    },
    {
      "cell_type": "markdown",
      "source": [
        "##**Common Built-in Data Types:**"
      ],
      "metadata": {
        "id": "vCWgnSbJgDIi"
      }
    },
    {
      "cell_type": "markdown",
      "source": [
        "Python provides several built-in data types to represent different kinds of data:"
      ],
      "metadata": {
        "id": "UCUdiJRegHrV"
      }
    },
    {
      "cell_type": "markdown",
      "source": [
        "1. **Numeric Types:**\n",
        "   - **`int` (integer):** Represents whole numbers (positive, negative, or zero) with unlimited size.\n",
        "     ```python\n",
        "     age = 25\n",
        "     score = -80\n",
        "     ```\n",
        "   - **`float` (floating-point):** Represents numbers with decimal points, typically accurate up to 15 decimal places.\n",
        "     ```python\n",
        "     pi = 3.14159\n",
        "     average = 75.2\n",
        "     ```\n",
        "   - **`complex` (complex number):** Represents numbers with a real and imaginary part (a + bi, where i is the imaginary unit).\n",
        "     ```python\n",
        "     z = 3 + 2j\n",
        "     ```\n"
      ],
      "metadata": {
        "id": "byqGx8A7gLWj"
      }
    },
    {
      "cell_type": "code",
      "source": [
        "age = 25\n",
        "average = 75.2\n",
        "z = 3 + 2j\n",
        "\n",
        "print('type(age) = ',type(age))\n",
        "print('type(average) = ',type(average))\n",
        "print('type(z) = ',type(z))\n",
        "print(age + average,type(age + average))"
      ],
      "metadata": {
        "colab": {
          "base_uri": "https://localhost:8080/"
        },
        "id": "Y3aW03-nhHJv",
        "outputId": "8182264d-2e36-43ab-8935-dd06ebfdec9a"
      },
      "execution_count": 7,
      "outputs": [
        {
          "output_type": "stream",
          "name": "stdout",
          "text": [
            "type(age) =  <class 'int'>\n",
            "type(average) =  <class 'float'>\n",
            "type(z) =  <class 'complex'>\n",
            "100.2 <class 'float'>\n"
          ]
        }
      ]
    },
    {
      "cell_type": "markdown",
      "source": [
        "2. **`str` (string):** Represents sequences of characters, enclosed in single quotes (`'`), double quotes (`\"`), or triple quotes (''' or \"\"\"). Triple quotes are useful for multi-line strings.\n",
        "   ```python\n",
        "   name = \"Alice\"\n",
        "   greeting = 'Hello, world!'\n",
        "   multiline = \"\"\"This is a\n",
        "   multiline string.\"\"\"\n",
        "   ```"
      ],
      "metadata": {
        "id": "m6g2ce46gMs-"
      }
    },
    {
      "cell_type": "markdown",
      "source": [
        "3. **`bool` (boolean):** Represents logical values (True or False). Used for conditional statements and decision-making.\n",
        "   ```python\n",
        "   is_sunny = True\n",
        "   is_finished = False\n",
        "   ```"
      ],
      "metadata": {
        "id": "5cLDl_O6gQmL"
      }
    },
    {
      "cell_type": "markdown",
      "source": [
        "4. **Collection Types:**\n",
        "   - **`list`:** Represents an ordered, changeable collection of items (can contain different data types). Enclosed in square brackets `[]`.\n",
        "     ```python\n",
        "     fruits = [\"apple\", \"banana\", \"orange\"]\n",
        "     mixed_list = [10, \"hello\", True]\n",
        "     ```\n",
        "   - **`tuple`:** Represents an ordered, unchangeable collection of items. Enclosed in parentheses `()`.\n",
        "     ```python\n",
        "     coordinates = (3, 5)  # (x, y)\n",
        "     weekdays = (\"Monday\", \"Tuesday\", \"Wednesday\")\n",
        "     ```\n",
        "   - **`dict` (dictionary):** Represents an unordered collection of key-value pairs. Keys are unique and must be immutable (e.g., strings, numbers). Enclosed in curly braces `{}`.\n",
        "     ```python\n",
        "     person = {\"name\": \"Bob\", \"age\": 30, \"city\": \"New York\"}\n",
        "     empty_dict = {}\n",
        "     ```\n",
        "   - **`set`:** Represents an unordered collection of unique elements. Elements can be of different data types. Enclosed in curly braces `{}`.\n",
        "     ```python\n",
        "     unique_numbers = {1, 2, 2, 3, 4}  # Duplicates are removed\n",
        "     letters = set(\"apple\")\n",
        "     ```"
      ],
      "metadata": {
        "id": "BlMridbxgUeY"
      }
    },
    {
      "cell_type": "markdown",
      "source": [
        "##**Choosing the Right Data Type:**"
      ],
      "metadata": {
        "id": "CX_5X1cfgidv"
      }
    },
    {
      "cell_type": "markdown",
      "source": [
        "\n",
        "\n",
        "- Use `int` for whole numbers (counters, scores, etc.).\n",
        "- Use `float` for numbers with decimals (scientific calculations, monetary values, etc.).\n",
        "- Use `complex` for complex numbers (advanced mathematical applications).\n",
        "- Use `str` for text (names, messages, etc.).\n",
        "- Use `bool` for true/false conditions.\n",
        "- Use `list` for ordered, changeable collections (shopping lists, to-do items, etc.).\n",
        "- Use `tuple` for fixed data that won't change (coordinates, days of the week, etc.).\n",
        "- Use `dict` for key-value pairs (user information, product details, etc.).\n",
        "- Use `set` for unique elements (removing duplicates, checking membership, etc.)."
      ],
      "metadata": {
        "id": "M1hod1kWgaQK"
      }
    },
    {
      "cell_type": "markdown",
      "source": [
        "##**Checking Data Types:**"
      ],
      "metadata": {
        "id": "jhgSMSbjglaB"
      }
    },
    {
      "cell_type": "markdown",
      "source": [
        "\n",
        "\n",
        "You can use the built-in `type()` function to determine the data type of a variable:\n",
        "\n",
        "```python\n",
        "x = 10\n",
        "y = \"hello\"\n",
        "z = True\n",
        "\n",
        "print(type(x))  # Output: <class 'int'>\n",
        "print(type(y))  # Output: <class 'str'>\n",
        "print(type(z))  # Output: <class 'bool'>\n",
        "```"
      ],
      "metadata": {
        "id": "51r4Jtc-gegW"
      }
    },
    {
      "cell_type": "markdown",
      "source": [
        "#**Built-in functions:**\n"
      ],
      "metadata": {
        "id": "Z4_KvDgClHzv"
      }
    },
    {
      "cell_type": "markdown",
      "source": [
        "\n",
        "Here's a general breakdown of some common built-in function categories:\n",
        "\n",
        "**- Numeric Functions:**\n",
        "\n",
        "    - `abs()` (absolute value)\n",
        "    - `divmod()` (division and modulo)\n",
        "    - `float()` (convert to a float)\n",
        "    - `int()` (convert to an integer)\n",
        "    - `max()` (largest value)\n",
        "    - `min()` (smallest value)\n",
        "    - `pow()` (power)\n",
        "    - `round()` (round a number)\n",
        "\n",
        "**- String Functions:**\n",
        "\n",
        "    - `ascii()` (ASCII representation)\n",
        "    - `capitalize()` (capitalize first letter)\n",
        "    - `center()` (center align in a string)\n",
        "    - `count()` (count occurrences)\n",
        "    - `encode()` (encode string)\n",
        "    - `find()` (find the index of a substring)\n",
        "    - `format()` (formatted string output)\n",
        "    - `isalnum()` (check alphanumeric characters)\n",
        "    - `isalpha()` (check alphabetic characters)\n",
        "    - `isdigit()` (check digits)\n",
        "    - `join()` (join a sequence of strings)\n",
        "    - `lower()` (convert to lowercase)\n",
        "    - `lstrip()` (remove leading whitespace)\n",
        "    - `replace()` (replace occurrences of a substring)\n",
        "    - `split()` (split a string into a list)\n",
        "    - `startswith()` (check if a string starts with a substring)\n",
        "    - `strip()` (remove leading and trailing whitespace)\n",
        "    - `upper()` (convert to uppercase)\n",
        "\n",
        "**- List/Sequence Functions:**\n",
        "\n",
        "    - `append()` (add an item to the end)\n",
        "    - `clear()` (remove all items)\n",
        "    - `copy()` (return a shallow copy)\n",
        "    - `count()` (count occurrences)\n",
        "    - `extend()` (extend the list by appending all items from an iterable)\n",
        "    - `index()` (find the index of a value)\n",
        "    - `insert()` (insert an item at a given position)\n",
        "    - `pop()` (remove and return the last item)\n",
        "    - `remove()` (remove the first item with a given value)\n",
        "    - `reverse()` (reverse the elements in place)\n",
        "    - `sort()` (sort the items)\n",
        "\n",
        "**- Dictionary Functions:**\n",
        "\n",
        "    - `clear()` (remove all items)\n",
        "    - `copy()` (return a shallow copy)\n",
        "    - `fromkeys()` (create a new dictionary with a sequence of keys)\n",
        "    - `get()` (get a value with a default value)\n",
        "    - `items()` (return a view object of key-value pairs)\n",
        "    - `keys()` (return a view object of all keys)\n",
        "    - `pop()` (remove and return a value)\n",
        "    - `popitem()` (remove and return an arbitrary key-value pair)\n",
        "    - `setdefault()` (get or set a value with a default)\n",
        "    - `update()` (update the dictionary with another dictionary)\n",
        "    - `values()` (return a view object of all values)\n",
        "\n",
        "**- Looping Functions:**\n",
        "\n",
        "    - `enumerate()` (enumerate elements with index)\n",
        "    - `filter()` (construct an iterator from elements that pass a test)\n",
        "    - `map()` (apply a function to all elements of an iterable)\n",
        "    - `zip()` (create an iterator of tuples from iterables)\n",
        "\n",
        "**- File I/O Functions:**\n",
        "\n",
        "    - `open()` (open a file for reading or writing)\n",
        "    - `close()` (close a file)\n",
        "    - `read()` (read the contents of a file)\n",
        "    - `write()` (write to a file)\n",
        "\n",
        "**- Exception Handling Functions:**\n",
        "\n",
        "    - `try...except...finally` (exception handling block)\n",
        "    - `raise` (raise an exception)\n",
        "\n"
      ],
      "metadata": {
        "id": "kRftzZJwkvGV"
      }
    }
  ]
}